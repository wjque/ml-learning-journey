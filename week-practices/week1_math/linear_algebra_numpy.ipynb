{
 "cells": [
  {
   "cell_type": "markdown",
   "id": "4709dd84",
   "metadata": {},
   "source": [
    "## 线性代数复习\n",
    "\n",
    "### 实现PCA简化版"
   ]
  }
 ],
 "metadata": {
  "language_info": {
   "name": "python"
  }
 },
 "nbformat": 4,
 "nbformat_minor": 5
}
