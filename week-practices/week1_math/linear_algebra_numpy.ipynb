{
 "cells": [
  {
   "cell_type": "markdown",
   "id": "4709dd84",
   "metadata": {},
   "source": [
    "## 线性代数复习\n",
    "\n",
    "### 实现PCA简化版"
   ]
  },
  {
   "cell_type": "code",
   "execution_count": null,
   "id": "d2bb145e-d6f4-493e-af54-904597c65863",
   "metadata": {},
   "outputs": [],
   "source": [
    "import numpy as np"
   ]
  }
 ],
 "metadata": {
  "kernelspec": {
   "display_name": "base",
   "language": "python",
   "name": "python3"
  },
  "language_info": {
   "codemirror_mode": {
    "name": "ipython",
    "version": 3
   },
   "file_extension": ".py",
   "mimetype": "text/x-python",
   "name": "python",
   "nbconvert_exporter": "python",
   "pygments_lexer": "ipython3",
   "version": "3.11.7"
  }
 },
 "nbformat": 4,
 "nbformat_minor": 5
}
