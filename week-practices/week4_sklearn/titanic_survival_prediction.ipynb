{
 "cells": [
  {
   "cell_type": "markdown",
   "id": "1f10d412",
   "metadata": {},
   "source": [
    "## 使用 scikit-learn 实现 Titanic surcical prediction"
   ]
  }
 ],
 "metadata": {
  "language_info": {
   "name": "python"
  }
 },
 "nbformat": 4,
 "nbformat_minor": 5
}
